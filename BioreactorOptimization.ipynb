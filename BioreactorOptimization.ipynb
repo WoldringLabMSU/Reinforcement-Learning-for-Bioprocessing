{
 "cells": [
  {
   "cell_type": "code",
   "execution_count": 1,
   "id": "7a6d91c4-2fa7-4301-8a7f-ee73fb04140c",
   "metadata": {},
   "outputs": [
    {
     "name": "stdout",
     "output_type": "stream",
     "text": [
      "Defaulting to user installation because normal site-packages is not writeable\n",
      "Requirement already satisfied: pandas in /opt/miniconda3/lib/python3.11/site-packages (2.2.3)\n",
      "Requirement already satisfied: openpyxl in /opt/miniconda3/lib/python3.11/site-packages (3.1.5)\n",
      "Requirement already satisfied: scikit-learn in /opt/miniconda3/lib/python3.11/site-packages (1.6.0)\n",
      "Requirement already satisfied: fancyimpute in /home/murra349/.local/lib/python3.11/site-packages (0.7.0)\n",
      "Requirement already satisfied: numpy>=1.23.2 in /opt/miniconda3/lib/python3.11/site-packages (from pandas) (2.2.1)\n",
      "Requirement already satisfied: python-dateutil>=2.8.2 in /opt/miniconda3/lib/python3.11/site-packages (from pandas) (2.9.0.post0)\n",
      "Requirement already satisfied: pytz>=2020.1 in /opt/miniconda3/lib/python3.11/site-packages (from pandas) (2024.1)\n",
      "Requirement already satisfied: tzdata>=2022.7 in /opt/miniconda3/lib/python3.11/site-packages (from pandas) (2024.2)\n",
      "Requirement already satisfied: et-xmlfile in /opt/miniconda3/lib/python3.11/site-packages (from openpyxl) (2.0.0)\n",
      "Requirement already satisfied: scipy>=1.6.0 in /opt/miniconda3/lib/python3.11/site-packages (from scikit-learn) (1.14.1)\n",
      "Requirement already satisfied: joblib>=1.2.0 in /opt/miniconda3/lib/python3.11/site-packages (from scikit-learn) (1.4.2)\n",
      "Requirement already satisfied: threadpoolctl>=3.1.0 in /opt/miniconda3/lib/python3.11/site-packages (from scikit-learn) (3.5.0)\n",
      "Requirement already satisfied: knnimpute>=0.1.0 in /home/murra349/.local/lib/python3.11/site-packages (from fancyimpute) (0.1.0)\n",
      "Requirement already satisfied: cvxpy in /home/murra349/.local/lib/python3.11/site-packages (from fancyimpute) (1.6.4)\n",
      "Requirement already satisfied: cvxopt in /home/murra349/.local/lib/python3.11/site-packages (from fancyimpute) (1.3.2)\n",
      "Requirement already satisfied: pytest in /home/murra349/.local/lib/python3.11/site-packages (from fancyimpute) (8.3.5)\n",
      "Requirement already satisfied: nose in /home/murra349/.local/lib/python3.11/site-packages (from fancyimpute) (1.3.7)\n",
      "Requirement already satisfied: six in /opt/miniconda3/lib/python3.11/site-packages (from knnimpute>=0.1.0->fancyimpute) (1.17.0)\n",
      "Requirement already satisfied: osqp>=0.6.2 in /home/murra349/.local/lib/python3.11/site-packages (from cvxpy->fancyimpute) (0.6.7.post3)\n",
      "Requirement already satisfied: clarabel>=0.5.0 in /home/murra349/.local/lib/python3.11/site-packages (from cvxpy->fancyimpute) (0.10.0)\n",
      "Requirement already satisfied: scs>=3.2.4.post1 in /home/murra349/.local/lib/python3.11/site-packages (from cvxpy->fancyimpute) (3.2.7.post2)\n",
      "Requirement already satisfied: iniconfig in /home/murra349/.local/lib/python3.11/site-packages (from pytest->fancyimpute) (2.0.0)\n",
      "Requirement already satisfied: packaging in /opt/miniconda3/lib/python3.11/site-packages (from pytest->fancyimpute) (24.2)\n",
      "Requirement already satisfied: pluggy<2,>=1.5 in /opt/miniconda3/lib/python3.11/site-packages (from pytest->fancyimpute) (1.5.0)\n",
      "Requirement already satisfied: qdldl in /home/murra349/.local/lib/python3.11/site-packages (from osqp>=0.6.2->cvxpy->fancyimpute) (0.1.7.post5)\n",
      "Note: you may need to restart the kernel to use updated packages.\n"
     ]
    }
   ],
   "source": [
    "pip install pandas openpyxl scikit-learn fancyimpute"
   ]
  },
  {
   "cell_type": "code",
   "execution_count": 2,
   "id": "2aa99f54-e89a-402d-be34-a80de216fa12",
   "metadata": {},
   "outputs": [],
   "source": [
    "import pandas as pd\n",
    "#load excel file\n",
    "df = pd.read_excel(\"Cleaned_Bioreactor_Data.xlsx\", engine=\"openpyxl\")"
   ]
  },
  {
   "cell_type": "code",
   "execution_count": 3,
   "id": "a5d4e168-f1a0-4712-897e-a67caa41f992",
   "metadata": {},
   "outputs": [
    {
     "data": {
      "text/html": [
       "<div>\n",
       "<style scoped>\n",
       "    .dataframe tbody tr th:only-of-type {\n",
       "        vertical-align: middle;\n",
       "    }\n",
       "\n",
       "    .dataframe tbody tr th {\n",
       "        vertical-align: top;\n",
       "    }\n",
       "\n",
       "    .dataframe thead th {\n",
       "        text-align: right;\n",
       "    }\n",
       "</style>\n",
       "<table border=\"1\" class=\"dataframe\">\n",
       "  <thead>\n",
       "    <tr style=\"text-align: right;\">\n",
       "      <th></th>\n",
       "      <th>Age (Days)</th>\n",
       "      <th>Biomass (µg/ml)</th>\n",
       "      <th>C-Phycocyanin (µg/ml)</th>\n",
       "      <th>Yield</th>\n",
       "      <th>Nitrate added (µg/ml)</th>\n",
       "    </tr>\n",
       "  </thead>\n",
       "  <tbody>\n",
       "    <tr>\n",
       "      <th>0</th>\n",
       "      <td>0.000000</td>\n",
       "      <td>240.530969</td>\n",
       "      <td>4.324240</td>\n",
       "      <td>0.017978</td>\n",
       "      <td>NaN</td>\n",
       "    </tr>\n",
       "    <tr>\n",
       "      <th>1</th>\n",
       "      <td>0.917361</td>\n",
       "      <td>271.447278</td>\n",
       "      <td>4.779300</td>\n",
       "      <td>0.017607</td>\n",
       "      <td>1096.597856</td>\n",
       "    </tr>\n",
       "    <tr>\n",
       "      <th>2</th>\n",
       "      <td>1.883333</td>\n",
       "      <td>318.752372</td>\n",
       "      <td>13.333333</td>\n",
       "      <td>0.041830</td>\n",
       "      <td>1160.423633</td>\n",
       "    </tr>\n",
       "    <tr>\n",
       "      <th>3</th>\n",
       "      <td>4.830556</td>\n",
       "      <td>464.925403</td>\n",
       "      <td>22.496195</td>\n",
       "      <td>0.048387</td>\n",
       "      <td>1002.654289</td>\n",
       "    </tr>\n",
       "    <tr>\n",
       "      <th>4</th>\n",
       "      <td>5.838194</td>\n",
       "      <td>516.453257</td>\n",
       "      <td>27.001522</td>\n",
       "      <td>0.052283</td>\n",
       "      <td>1080.242500</td>\n",
       "    </tr>\n",
       "  </tbody>\n",
       "</table>\n",
       "</div>"
      ],
      "text/plain": [
       "   Age (Days)  Biomass (µg/ml)  C-Phycocyanin (µg/ml)     Yield  \\\n",
       "0    0.000000       240.530969               4.324240  0.017978   \n",
       "1    0.917361       271.447278               4.779300  0.017607   \n",
       "2    1.883333       318.752372              13.333333  0.041830   \n",
       "3    4.830556       464.925403              22.496195  0.048387   \n",
       "4    5.838194       516.453257              27.001522  0.052283   \n",
       "\n",
       "   Nitrate added (µg/ml)  \n",
       "0                    NaN  \n",
       "1            1096.597856  \n",
       "2            1160.423633  \n",
       "3            1002.654289  \n",
       "4            1080.242500  "
      ]
     },
     "execution_count": 3,
     "metadata": {},
     "output_type": "execute_result"
    }
   ],
   "source": [
    "#display first few rows\n",
    "df.head()"
   ]
  },
  {
   "cell_type": "code",
   "execution_count": 11,
   "id": "d36b3982-c2da-4a86-aa32-41c105369fcf",
   "metadata": {},
   "outputs": [],
   "source": [
    "from fancyimpute import IterativeImputer\n",
    "from sklearn.preprocessing import PolynomialFeatures\n",
    "from sklearn.linear_model import LinearRegression\n",
    "from sklearn.impute import SimpleImputer\n",
    "import numpy as np"
   ]
  },
  {
   "cell_type": "code",
   "execution_count": 12,
   "id": "584b8e3c-0e5c-4d4d-abd1-4b2a927d721b",
   "metadata": {},
   "outputs": [
    {
     "name": "stdout",
     "output_type": "stream",
     "text": [
      "Age (Days)               float64\n",
      "Biomass (µg/ml)          float64\n",
      "C-Phycocyanin (µg/ml)    float64\n",
      "Yield                    float64\n",
      "Nitrate added (µg/ml)    float64\n",
      "dtype: object\n"
     ]
    }
   ],
   "source": [
    "#checking for non numeric columns\n",
    "print(df.dtypes)"
   ]
  },
  {
   "cell_type": "code",
   "execution_count": 13,
   "id": "2af2430e-e31f-4c8b-9016-82910f217ef7",
   "metadata": {},
   "outputs": [
    {
     "name": "stdout",
     "output_type": "stream",
     "text": [
      "Age (Days)               float64\n",
      "Biomass (µg/ml)          float64\n",
      "C-Phycocyanin (µg/ml)    float64\n",
      "Yield                    float64\n",
      "Nitrate added (µg/ml)    float64\n",
      "dtype: object\n"
     ]
    }
   ],
   "source": [
    "#drop unnamed columns\n",
    "df=df.dropna(axis=1, how=\"all\") #remove columns that are entirely NaN\n",
    "df = df.loc[:, ~df.columns.str.contains('^Unnamed')]  # Remove 'Unnamed' \n",
    "print (df.dtypes)"
   ]
  },
  {
   "cell_type": "code",
   "execution_count": 14,
   "id": "b04ca726-e3cd-4b73-9cb4-abe2fb5c6783",
   "metadata": {},
   "outputs": [
    {
     "name": "stdout",
     "output_type": "stream",
     "text": [
      "Age (Days)               float64\n",
      "Biomass (µg/ml)          float64\n",
      "C-Phycocyanin (µg/ml)    float64\n",
      "Yield                    float64\n",
      "Nitrate added (µg/ml)    float64\n",
      "dtype: object\n"
     ]
    }
   ],
   "source": [
    "# Convert all possible numeric columns to float\n",
    "df = df.apply(pd.to_numeric, errors='coerce')\n",
    "\n",
    "# Check again if data types are now correct\n",
    "print(df.dtypes)"
   ]
  },
  {
   "cell_type": "code",
   "execution_count": 15,
   "id": "274bca5d-90f5-4404-9dd5-26be6b2ce478",
   "metadata": {},
   "outputs": [
    {
     "name": "stdout",
     "output_type": "stream",
     "text": [
      "Data after REGEM imputation\n",
      "   Age (Days)  Biomass (µg/ml)  C-Phycocyanin (µg/ml)     Yield  \\\n",
      "0    0.000000       240.530969               4.324240  0.017978   \n",
      "1    0.917361       271.447278               4.779300  0.017607   \n",
      "2    1.883333       318.752372              13.333333  0.041830   \n",
      "3    4.830556       464.925403              22.496195  0.048387   \n",
      "4    5.838194       516.453257              27.001522  0.052283   \n",
      "\n",
      "   Nitrate added (µg/ml)  \n",
      "0            1109.191665  \n",
      "1            1096.597856  \n",
      "2            1160.423633  \n",
      "3            1002.654289  \n",
      "4            1080.242500  \n"
     ]
    }
   ],
   "source": [
    "#apply REGEM, filling in missing values, using iterative imputer\n",
    "imputer=IterativeImputer(max_iter=10, random_state=42)\n",
    "df_imputed=pd.DataFrame(imputer.fit_transform(df),columns=df.columns)\n",
    "print(\"Data after REGEM imputation\")\n",
    "print(df_imputed.head())"
   ]
  },
  {
   "cell_type": "code",
   "execution_count": 16,
   "id": "867598fa-8737-4a8b-be70-72d972151635",
   "metadata": {},
   "outputs": [
    {
     "ename": "NameError",
     "evalue": "name 'x_vals' is not defined",
     "output_type": "error",
     "traceback": [
      "\u001b[0;31m---------------------------------------------------------------------------\u001b[0m",
      "\u001b[0;31mNameError\u001b[0m                                 Traceback (most recent call last)",
      "Cell \u001b[0;32mIn[16], line 11\u001b[0m\n\u001b[1;32m      8\u001b[0m x_bio_poly \u001b[38;5;241m=\u001b[39m poly_bio\u001b[38;5;241m.\u001b[39mfit_transform(x_bio)\n\u001b[1;32m      9\u001b[0m model_bio \u001b[38;5;241m=\u001b[39m LinearRegression()\u001b[38;5;241m.\u001b[39mfit(x_bio_poly, y_bio)\n\u001b[0;32m---> 11\u001b[0m x_dense \u001b[38;5;241m=\u001b[39m np\u001b[38;5;241m.\u001b[39mlinspace(\u001b[43mx_vals\u001b[49m\u001b[38;5;241m.\u001b[39mmin(), x_vals\u001b[38;5;241m.\u001b[39mmax(), \u001b[38;5;241m200\u001b[39m)\u001b[38;5;241m.\u001b[39mreshape(\u001b[38;5;241m-\u001b[39m\u001b[38;5;241m1\u001b[39m, \u001b[38;5;241m1\u001b[39m)\n\u001b[1;32m     12\u001b[0m x_dense_bio \u001b[38;5;241m=\u001b[39m poly_bio\u001b[38;5;241m.\u001b[39mtransform(x_dense)\n\u001b[1;32m     13\u001b[0m y_dense_bio \u001b[38;5;241m=\u001b[39m model_bio\u001b[38;5;241m.\u001b[39mpredict(x_dense_bio)\n",
      "\u001b[0;31mNameError\u001b[0m: name 'x_vals' is not defined"
     ]
    }
   ],
   "source": [
    "#3rd order polynomial regression\n",
    "\n",
    "# Biomass\n",
    "biomass_df_imputed = df_imputed.dropna(subset=[\"Biomass (µg/ml)\"])\n",
    "x_bio = biomass_df_imputed[[\"Age (Days)\"]]\n",
    "y_bio = biomass_df_imputed[\"Biomass (µg/ml)\"]\n",
    "poly_bio = PolynomialFeatures(degree=3)\n",
    "x_bio_poly = poly_bio.fit_transform(x_bio)\n",
    "model_bio = LinearRegression().fit(x_bio_poly, y_bio)\n",
    "\n",
    "x_dense = np.linspace(x_vals.min(), x_vals.max(), 200).reshape(-1, 1)\n",
    "x_dense_bio = poly_bio.transform(x_dense)\n",
    "y_dense_bio = model_bio.predict(x_dense_bio)\n",
    "\n",
    "\n",
    "# Nitrate\n",
    "nitrate_df_imputed = df_imputed.dropna(subset=[\"Nitrate added (µg/ml)\"])\n",
    "x_nit = nitrate_df_imputed[[\"Age (Days)\"]]\n",
    "y_nit = nitrate_df_imputed[\"Nitrate added (µg/ml)\"]\n",
    "poly_nit = PolynomialFeatures(degree=3)\n",
    "x_nit_poly = poly_nit.fit_transform(x_nit)\n",
    "model_nit = LinearRegression().fit(x_nit_poly, y_nit)\n",
    "\n",
    "x_dense_nit = poly_nit.transform(x_dense)\n",
    "y_dense_nit = model_nit.predict(x_dense_nit)\n",
    "\n",
    "# C-PC smoothing\n",
    "cpc_df_imputed = df_imputed.dropna(subset=[\"C-Phycocyanin (µg/ml)\"])\n",
    "x_cpc = cpc_df_imputed[[\"Age (Days)\"]]\n",
    "y_cpc = cpc_df_imputed[\"C-Phycocyanin (µg/ml)\"]\n",
    "poly_cpc = PolynomialFeatures(degree=3)\n",
    "x_cpc_poly = poly_cpc.fit_transform(x_cpc)\n",
    "model_cpc = LinearRegression().fit(x_cpc_poly, y_cpc)\n",
    "\n",
    "x_dense_cpc = poly_cpc.transform(x_dense)\n",
    "y_dense_cpc = model_cpc.predict(x_dense_cpc)\n",
    "\n",
    "\n"
   ]
  },
  {
   "cell_type": "code",
   "execution_count": 17,
   "id": "4c214091-8902-47f9-aaeb-fdf2fa5cbb4c",
   "metadata": {},
   "outputs": [
    {
     "ename": "NameError",
     "evalue": "name 'plt' is not defined",
     "output_type": "error",
     "traceback": [
      "\u001b[0;31m---------------------------------------------------------------------------\u001b[0m",
      "\u001b[0;31mNameError\u001b[0m                                 Traceback (most recent call last)",
      "Cell \u001b[0;32mIn[17], line 2\u001b[0m\n\u001b[1;32m      1\u001b[0m \u001b[38;5;66;03m#plotting\u001b[39;00m\n\u001b[0;32m----> 2\u001b[0m fig, ax1 \u001b[38;5;241m=\u001b[39m \u001b[43mplt\u001b[49m\u001b[38;5;241m.\u001b[39msubplots(figsize\u001b[38;5;241m=\u001b[39m(\u001b[38;5;241m6\u001b[39m, \u001b[38;5;241m6\u001b[39m))\n\u001b[1;32m      3\u001b[0m x_vals \u001b[38;5;241m=\u001b[39m df[\u001b[38;5;124m\"\u001b[39m\u001b[38;5;124mAge (Days)\u001b[39m\u001b[38;5;124m\"\u001b[39m]\n\u001b[1;32m      6\u001b[0m \u001b[38;5;66;03m#Raw data\u001b[39;00m\n",
      "\u001b[0;31mNameError\u001b[0m: name 'plt' is not defined"
     ]
    }
   ],
   "source": [
    "#plotting\n",
    "fig, ax1 = plt.subplots(figsize=(6, 6))\n",
    "x_vals = df[\"Age (Days)\"]\n",
    "\n",
    "\n",
    "#Raw data\n",
    "ax1.scatter(x_vals, df[\"Biomass (µg/ml)\"], color='blue', label='Biomass (raw)',s=20)\n",
    "ax1.scatter(x_vals, df[\"Nitrate added (µg/ml)\"], color='red', label='Nitrate (raw)',s=20)\n",
    "\n",
    "#Biomass\n",
    "ax1.plot(x_dense, y_dense_bio, color='blue', label='Biomass (fit)')\n",
    "#nitrate\n",
    "ax1.plot(x_dense, y_dense_nit, color='red', label='Nitrate (fit)')\n",
    "\n",
    "ax1.set_xlabel(\"Time (days)\")\n",
    "ax1.set_ylabel(\"Biomass, Nitrate (mg/L)\")\n",
    "ax1.set_xlim(0, 60)\n",
    "ax1.set_ylim(0, 4000)\n",
    "\n",
    "#CPC on right axis\n",
    "ax2 = ax1.twinx()\n",
    "ax2.scatter(df[\"Age (Days)\"], df[\"C-Phycocyanin (µg/ml)\"], color='green', label='C-PC (raw)', s=20)\n",
    "ax2.plot(x_dense, y_dense_cpc, color='green', label='C-PC (fit)')\n",
    "\n",
    "ax2.set_ylabel(\"C-PC (mg/L)\")\n",
    "ax2.set_ylim(0, 1400)\n",
    "\n",
    "### -------- Combine legends -------- ###\n",
    "lines1, labels1 = ax1.get_legend_handles_labels()\n",
    "lines2, labels2 = ax2.get_legend_handles_labels()\n",
    "ax1.legend(lines1 + lines2, labels1 + labels2, loc=\"upper left\")\n",
    "\n",
    "plt.title(\"Biomass, Nitrate, and C-PC Over Time (Raw + Fit)\")\n",
    "plt.grid(True)\n",
    "\n",
    "plt.show()"
   ]
  },
  {
   "cell_type": "code",
   "execution_count": null,
   "id": "c08b859b-4777-4499-9768-cb215395020e",
   "metadata": {},
   "outputs": [],
   "source": []
  },
  {
   "cell_type": "code",
   "execution_count": null,
   "id": "0db91e3f-55b4-4490-bb85-9fe7174e6c8d",
   "metadata": {},
   "outputs": [],
   "source": []
  },
  {
   "cell_type": "code",
   "execution_count": null,
   "id": "0ae9c359-c87e-4e84-acb5-65aaf98bd822",
   "metadata": {},
   "outputs": [],
   "source": []
  }
 ],
 "metadata": {
  "kernelspec": {
   "display_name": "Python 3.11 (default)",
   "language": "python",
   "name": "python3"
  },
  "language_info": {
   "codemirror_mode": {
    "name": "ipython",
    "version": 3
   },
   "file_extension": ".py",
   "mimetype": "text/x-python",
   "name": "python",
   "nbconvert_exporter": "python",
   "pygments_lexer": "ipython3",
   "version": "3.11.11"
  }
 },
 "nbformat": 4,
 "nbformat_minor": 5
}
