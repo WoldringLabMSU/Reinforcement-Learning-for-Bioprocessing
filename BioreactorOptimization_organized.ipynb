{
 "cells": [
  {
   "cell_type": "markdown",
   "id": "1c39187f-b352-4378-8ee9-8890c2e16306",
   "metadata": {},
   "source": [
    "# Bioreactor Optimization\n",
    "### CHE 883\n",
    "### Sam Schulte and Lauren Murray"
   ]
  },
  {
   "cell_type": "markdown",
   "id": "970d5d17-c7ba-43f7-84ba-301c55b2938e",
   "metadata": {},
   "source": [
    "---\n",
    "### Importing Libraries"
   ]
  },
  {
   "cell_type": "code",
   "execution_count": null,
   "id": "683cfe41-b115-4a69-8a99-ba2ec8d3c7c7",
   "metadata": {},
   "outputs": [],
   "source": [
    "import numpy as np\n",
    "import pandas as pd\n",
    "import matplotlib.pyplot as plt\n",
    "from fancyimpute import IterativeImputer\n",
    "from sklearn.preprocessing import PolynomialFeatures\n",
    "from sklearn.linear_model import LinearRegression"
   ]
  },
  {
   "cell_type": "markdown",
   "id": "1cf4e032-d782-46a3-8ac6-86dd10319f52",
   "metadata": {},
   "source": [
    "---\n",
    "### Importing Data"
   ]
  },
  {
   "cell_type": "code",
   "execution_count": null,
   "id": "788748b3-fb71-4e91-9782-3359998add73",
   "metadata": {},
   "outputs": [],
   "source": [
    "data1200 = pd.read_excel(\"cleaned_bioreactor_data.xlsx\", engine=\"openpyxl\", sheet_name=\"1200\")\n",
    "data1200.head()"
   ]
  },
  {
   "cell_type": "code",
   "execution_count": null,
   "id": "fec0cdb5-02aa-45d8-ade4-a5cc1ff1f84a",
   "metadata": {},
   "outputs": [],
   "source": [
    "data300 = pd.read_excel(\"cleaned_bioreactor_data.xlsx\", engine=\"openpyxl\", sheet_name=\"300\")\n",
    "data300.head()"
   ]
  },
  {
   "cell_type": "code",
   "execution_count": null,
   "id": "ec4d18c6-762e-4296-b070-603af76af5d1",
   "metadata": {},
   "outputs": [],
   "source": [
    "data600 = pd.read_excel(\"cleaned_bioreactor_data.xlsx\", engine=\"openpyxl\", sheet_name=\"600\")\n",
    "data600.head()"
   ]
  },
  {
   "cell_type": "code",
   "execution_count": null,
   "id": "a14b1dfb-8e8e-426a-92fd-5244bfae6952",
   "metadata": {},
   "outputs": [],
   "source": [
    "data900 = pd.read_excel(\"cleaned_bioreactor_data.xlsx\", engine=\"openpyxl\", sheet_name=\"900\")\n",
    "data900.head()"
   ]
  },
  {
   "cell_type": "code",
   "execution_count": null,
   "id": "4e7c2112-0c9e-42fc-9505-d2bd17f2e828",
   "metadata": {},
   "outputs": [],
   "source": [
    "# check for non numeric columns \n",
    "data1200.dtypes"
   ]
  },
  {
   "cell_type": "markdown",
   "id": "152ced8b-6207-4edc-83b8-0cda4e109355",
   "metadata": {},
   "source": [
    "---\n",
    "### REGEM Imputation"
   ]
  },
  {
   "cell_type": "code",
   "execution_count": null,
   "id": "54c6a6a8-03a1-4af7-a735-50a137af08c6",
   "metadata": {},
   "outputs": [],
   "source": [
    "#apply REGEM, filling in missing values, using iterative imputer\n",
    "imputer=IterativeImputer(max_iter=10, random_state=42)\n",
    "data300_imputed=pd.DataFrame(imputer.fit_transform(data300),columns=data300.columns)\n",
    "print(\"Data after REGEM imputation\")\n",
    "print(data300_imputed.head())"
   ]
  },
  {
   "cell_type": "code",
   "execution_count": null,
   "id": "c0deb12d-77ce-4245-a86a-85ec828be50f",
   "metadata": {},
   "outputs": [],
   "source": [
    "#apply REGEM, filling in missing values, using iterative imputer\n",
    "imputer=IterativeImputer(max_iter=10, random_state=42)\n",
    "data900_imputed=pd.DataFrame(imputer.fit_transform(data900),columns=data900.columns)\n",
    "print(\"Data after REGEM imputation\")\n",
    "print(data900_imputed.head())"
   ]
  },
  {
   "cell_type": "code",
   "execution_count": null,
   "id": "f99ef0e3-f982-46bb-9f2a-02ee431e352b",
   "metadata": {},
   "outputs": [],
   "source": [
    "#apply REGEM, filling in missing values, using iterative imputer\n",
    "imputer=IterativeImputer(max_iter=10, random_state=42)\n",
    "data1200_imputed=pd.DataFrame(imputer.fit_transform(data1200),columns=data1200.columns)\n",
    "print(\"Data after REGEM imputation\")\n",
    "print(data1200_imputed.head())"
   ]
  },
  {
   "cell_type": "markdown",
   "id": "bb3f193d-6aa3-4c42-a48d-4f7af53d369d",
   "metadata": {},
   "source": [
    "---\n",
    "### Polynomial Fitting"
   ]
  },
  {
   "cell_type": "code",
   "execution_count": null,
   "id": "4d15dbf8-d1a2-4567-b0dd-5acc345eff21",
   "metadata": {},
   "outputs": [],
   "source": [
    "#adding 3rd order polynomial regression to CPC, nitrate, and biomass to replicate plot in paper\n",
    "#using imputed data (above) and then generating smooth curves to plot\n",
    "\n",
    "# Biomass\n",
    "x300_bio = data300_imputed[[\"Time (Days)\"]] # adds input x to regression\n",
    "y300_bio = data300_imputed[\"Biomass (mg/mL)\"]  #y target number one, biomass\n",
    "poly300_bio = PolynomialFeatures(degree=3) #makes 3rd order polynomial \n",
    "x300_bio_poly = poly300_bio.fit_transform(x300_bio) #Actually creates the polynomial features from time values\n",
    "model300_bio = LinearRegression().fit(x300_bio_poly, y300_bio) #trains the regression model to learn a curve that fits your biomass data over time\n",
    "\n",
    "x300_vals=data300_imputed[\"Time (Days)\"] #grabs full age column again to have range for smoothed values\n",
    "x300_dense = np.linspace(x300_vals.min(), x300_vals.max(), 200).reshape(-1, 1) #makes 200 evenly spaced time points between first and last day and gives smooth line when predicting values between them\n",
    "\n",
    "x300_dense_bio = poly300_bio.transform(x300_dense) #Turns smooth x-values into polynomial features\n",
    "y300_dense_bio = model300_bio.predict(x300_dense_bio)#Uses the model to predict biomass values at all the smooth time points.\n",
    "\n",
    "# Nitrate\n",
    "nitrate_data300_imputed = data300_imputed.dropna(subset=[\"Nitrate (mg/mL)\"])\n",
    "x300_nit = nitrate_data300_imputed[[\"Time (Days)\"]]\n",
    "y300_nit = nitrate_data300_imputed[\"Nitrate (mg/mL)\"]\n",
    "poly300_nit = PolynomialFeatures(degree=3)\n",
    "x300_nit_poly = poly300_nit.fit_transform(x300_nit)\n",
    "model300_nit = LinearRegression().fit(x300_nit_poly, y300_nit)\n",
    "\n",
    "x300_dense_nit = poly300_nit.transform(x300_dense)\n",
    "y300_dense_nit = model300_nit.predict(x300_dense_nit)\n",
    "\n",
    "# C-PC smoothing\n",
    "cpc_data300_imputed = data300_imputed.dropna(subset=[\"C-PC (mg/mL)\"])\n",
    "x300_cpc = cpc_data300_imputed[[\"Time (Days)\"]]\n",
    "y300_cpc = cpc_data300_imputed[\"C-PC (mg/mL)\"]\n",
    "poly300_cpc = PolynomialFeatures(degree=3)\n",
    "x300_cpc_poly = poly300_cpc.fit_transform(x300_cpc)\n",
    "model300_cpc = LinearRegression().fit(x300_cpc_poly, y300_cpc)\n",
    "\n",
    "x300_dense_cpc = poly300_cpc.transform(x300_dense)\n",
    "y300_dense_cpc = model300_cpc.predict(x300_dense_cpc)"
   ]
  },
  {
   "cell_type": "code",
   "execution_count": null,
   "id": "a943b59a-18f0-470a-bca3-02a544b49511",
   "metadata": {},
   "outputs": [],
   "source": [
    "fig, ax1 = plt.subplots(figsize=(6, 6))\n",
    "x_vals = data300[\"Time (Days)\"] #grabs raw age values from original data to plot raw data\n",
    "\n",
    "\n",
    "#plotting raw data for biomass and nitrate on left y-axis\n",
    "ax1.scatter(x_vals, data300[\"Biomass (mg/mL)\"], color='blue', label='Biomass (raw)',s=20)\n",
    "ax1.scatter(x_vals, data300[\"Nitrate (mg/mL)\"], color='red', label='Nitrate (raw)',s=20)\n",
    "\n",
    "#draws a smooth biomass curve using predicted values (y_dense_bio/y_dense_nitrate) over a smooth time range (x_dense) for nitrate and biomass\n",
    "ax1.plot(x300_dense, y300_dense_bio, color='blue', label='Biomass (fit)')\n",
    "ax1.plot(x300_dense, y300_dense_nit, color='red', label='Nitrate (fit)')\n",
    "\n",
    "#limits and labels for primary y-axis and x-axis (limits based on paper to make look the same)\n",
    "ax1.set_xlabel(\"Time (days)\")\n",
    "ax1.set_ylabel(\"Biomass, Nitrate (mg/L)\")\n",
    "ax1.set_xlim(0, 18)\n",
    "ax1.set_ylim(0, 1200)\n",
    "\n",
    "#adds CPC on right axis\n",
    "ax2 = ax1.twinx() #twin function creates secondary y-axis that shares same x-axis but has different units and limits than primary y-axis\n",
    "#plots raw CPC data\n",
    "ax2.scatter(data300[\"Time (Days)\"], data300[\"C-PC (mg/mL)\"], color='green', label='C-PC (raw)', s=20)\n",
    "#plots smoothed fitted line over raw data\n",
    "ax2.plot(x300_dense, y300_dense_cpc, color='green', label='C-PC (fit)')\n",
    "\n",
    "#labels secondary y-axis and adds scale\n",
    "ax2.set_ylabel(\"C-PC (mg/L)\")\n",
    "ax2.set_ylim(0, 25)\n",
    "\n",
    "#combines legends from both axes\n",
    "lines1, labels1 = ax1.get_legend_handles_labels()\n",
    "lines2, labels2 = ax2.get_legend_handles_labels()\n",
    "ax1.legend(lines1 + lines2, labels1 + labels2, loc=\"upper left\")\n",
    "\n",
    "#adds title\n",
    "plt.title(\"Biomass, Nitrate, and C-PC Over Time (Raw + Fit)\")\n",
    "#adds gridlines\n",
    "plt.grid(True)\n",
    "\n",
    "plt.show()"
   ]
  },
  {
   "cell_type": "code",
   "execution_count": null,
   "id": "f910c567-3786-4773-932d-956c7834eae6",
   "metadata": {},
   "outputs": [],
   "source": [
    "#adding 3rd order polynomial regression to CPC, nitrate, and biomass to replicate plot in paper\n",
    "#using imputed data (above) and then generating smooth curves to plot\n",
    "\n",
    "# Biomass\n",
    "x900_bio = data900_imputed[[\"Time (Days)\"]] # adds input x to regression\n",
    "y900_bio = data900_imputed[\"Biomass (mg/mL)\"]  #y target number one, biomass\n",
    "poly900_bio = PolynomialFeatures(degree=3) #makes 3rd order polynomial \n",
    "x900_bio_poly = poly900_bio.fit_transform(x900_bio) #Actually creates the polynomial features from time values\n",
    "model900_bio = LinearRegression().fit(x900_bio_poly, y900_bio) #trains the regression model to learn a curve that fits your biomass data over time\n",
    "\n",
    "x900_vals=data900_imputed[\"Time (Days)\"] #grabs full age column again to have range for smoothed values\n",
    "x900_dense = np.linspace(x900_vals.min(), x900_vals.max(), 200).reshape(-1, 1) #makes 200 evenly spaced time points between first and last day and gives smooth line when predicting values between them\n",
    "\n",
    "x900_dense_bio = poly900_bio.transform(x900_dense) #Turns smooth x-values into polynomial features\n",
    "y900_dense_bio = model900_bio.predict(x900_dense_bio)#Uses the model to predict biomass values at all the smooth time points.\n",
    "\n",
    "# Nitrate\n",
    "nitrate_data900_imputed = data900_imputed.dropna(subset=[\"Nitrate (mg/mL)\"])\n",
    "x900_nit = nitrate_data900_imputed[[\"Time (Days)\"]]\n",
    "y900_nit = nitrate_data900_imputed[\"Nitrate (mg/mL)\"]\n",
    "poly900_nit = PolynomialFeatures(degree=3)\n",
    "x900_nit_poly = poly900_nit.fit_transform(x900_nit)\n",
    "model900_nit = LinearRegression().fit(x900_nit_poly, y900_nit)\n",
    "\n",
    "x900_dense_nit = poly900_nit.transform(x900_dense)\n",
    "y900_dense_nit = model900_nit.predict(x900_dense_nit)\n",
    "\n",
    "# C-PC smoothing\n",
    "cpc_data900_imputed = data900_imputed.dropna(subset=[\"C-PC (mg/mL)\"])\n",
    "x900_cpc = cpc_data900_imputed[[\"Time (Days)\"]]\n",
    "y900_cpc = cpc_data900_imputed[\"C-PC (mg/mL)\"]\n",
    "poly900_cpc = PolynomialFeatures(degree=3)\n",
    "x900_cpc_poly = poly900_cpc.fit_transform(x900_cpc)\n",
    "model900_cpc = LinearRegression().fit(x900_cpc_poly, y900_cpc)\n",
    "\n",
    "x900_dense_cpc = poly900_cpc.transform(x900_dense)\n",
    "y900_dense_cpc = model900_cpc.predict(x900_dense_cpc)"
   ]
  },
  {
   "cell_type": "code",
   "execution_count": null,
   "id": "80aa95f4-3b2c-4c0e-b607-8e7ca8e4c8bf",
   "metadata": {},
   "outputs": [],
   "source": [
    "fig, ax1 = plt.subplots(figsize=(6, 6))\n",
    "x_vals = data900[\"Time (Days)\"] #grabs raw age values from original data to plot raw data\n",
    "\n",
    "\n",
    "#plotting raw data for biomass and nitrate on left y-axis\n",
    "ax1.scatter(x_vals, data900[\"Biomass (mg/mL)\"], color='blue', label='Biomass (raw)',s=20)\n",
    "ax1.scatter(x_vals, data900[\"Nitrate (mg/mL)\"], color='red', label='Nitrate (raw)',s=20)\n",
    "\n",
    "#draws a smooth biomass curve using predicted values (y_dense_bio/y_dense_nitrate) over a smooth time range (x_dense) for nitrate and biomass\n",
    "ax1.plot(x900_dense, y900_dense_bio, color='blue', label='Biomass (fit)')\n",
    "ax1.plot(x900_dense, y900_dense_nit, color='red', label='Nitrate (fit)')\n",
    "\n",
    "#limits and labels for primary y-axis and x-axis (limits based on paper to make look the same)\n",
    "ax1.set_xlabel(\"Time (days)\")\n",
    "ax1.set_ylabel(\"Biomass, Nitrate (mg/L)\")\n",
    "ax1.set_xlim(0, 18)\n",
    "ax1.set_ylim(0, 1200)\n",
    "\n",
    "#adds CPC on right axis\n",
    "ax2 = ax1.twinx() #twin function creates secondary y-axis that shares same x-axis but has different units and limits than primary y-axis\n",
    "#plots raw CPC data\n",
    "ax2.scatter(data900[\"Time (Days)\"], data900[\"C-PC (mg/mL)\"], color='green', label='C-PC (raw)', s=20)\n",
    "#plots smoothed fitted line over raw data\n",
    "ax2.plot(x900_dense, y900_dense_cpc, color='green', label='C-PC (fit)')\n",
    "\n",
    "#labels secondary y-axis and adds scale\n",
    "ax2.set_ylabel(\"C-PC (mg/L)\")\n",
    "ax2.set_ylim(0, 45)\n",
    "\n",
    "#combines legends from both axes\n",
    "lines1, labels1 = ax1.get_legend_handles_labels()\n",
    "lines2, labels2 = ax2.get_legend_handles_labels()\n",
    "ax1.legend(lines1 + lines2, labels1 + labels2, loc=\"upper left\")\n",
    "\n",
    "#adds title\n",
    "plt.title(\"Biomass, Nitrate, and C-PC Over Time (Raw + Fit)\")\n",
    "#adds gridlines\n",
    "plt.grid(True)\n",
    "\n",
    "plt.show()"
   ]
  },
  {
   "cell_type": "code",
   "execution_count": null,
   "id": "712434d7-99c5-4de2-ba5e-1e89e19f6fd7",
   "metadata": {},
   "outputs": [],
   "source": [
    "#adding 3rd order polynomial regression to CPC, nitrate, and biomass to replicate plot in paper\n",
    "#using imputed data (above) and then generating smooth curves to plot\n",
    "\n",
    "# Biomass\n",
    "x1200_bio = data1200_imputed[[\"Time (Days)\"]] # adds input x to regression\n",
    "y1200_bio = data1200_imputed[\"Biomass (mg/mL)\"]  #y target number one, biomass\n",
    "poly1200_bio = PolynomialFeatures(degree=3) #makes 3rd order polynomial \n",
    "x1200_bio_poly = poly1200_bio.fit_transform(x1200_bio) #Actually creates the polynomial features from time values\n",
    "model1200_bio = LinearRegression().fit(x1200_bio_poly, y1200_bio) #trains the regression model to learn a curve that fits your biomass data over time\n",
    "\n",
    "x1200_vals=data1200_imputed[\"Time (Days)\"] #grabs full age column again to have range for smoothed values\n",
    "x1200_dense = np.linspace(x1200_vals.min(), x1200_vals.max(), 200).reshape(-1, 1) #makes 200 evenly spaced time points between first and last day and gives smooth line when predicting values between them\n",
    "\n",
    "x1200_dense_bio = poly1200_bio.transform(x1200_dense) #Turns smooth x-values into polynomial features\n",
    "y1200_dense_bio = model1200_bio.predict(x1200_dense_bio)#Uses the model to predict biomass values at all the smooth time points.\n",
    "\n",
    "# Nitrate\n",
    "nitrate_data1200_imputed = data1200_imputed.dropna(subset=[\"Nitrate (mg/mL)\"])\n",
    "x1200_nit = nitrate_data1200_imputed[[\"Time (Days)\"]]\n",
    "y1200_nit = nitrate_data1200_imputed[\"Nitrate (mg/mL)\"]\n",
    "poly1200_nit = PolynomialFeatures(degree=3)\n",
    "x1200_nit_poly = poly1200_nit.fit_transform(x1200_nit)\n",
    "model1200_nit = LinearRegression().fit(x1200_nit_poly, y1200_nit)\n",
    "\n",
    "x1200_dense_nit = poly1200_nit.transform(x1200_dense)\n",
    "y1200_dense_nit = model1200_nit.predict(x1200_dense_nit)\n",
    "\n",
    "# C-PC smoothing\n",
    "cpc_data1200_imputed = data1200_imputed.dropna(subset=[\"C-PC (mg/mL)\"])\n",
    "x1200_cpc = cpc_data1200_imputed[[\"Time (Days)\"]]\n",
    "y1200_cpc = cpc_data1200_imputed[\"C-PC (mg/mL)\"]\n",
    "poly1200_cpc = PolynomialFeatures(degree=3)\n",
    "x1200_cpc_poly = poly1200_cpc.fit_transform(x1200_cpc)\n",
    "model1200_cpc = LinearRegression().fit(x1200_cpc_poly, y1200_cpc)\n",
    "\n",
    "x1200_dense_cpc = poly1200_cpc.transform(x1200_dense)\n",
    "y1200_dense_cpc = model1200_cpc.predict(x1200_dense_cpc)"
   ]
  },
  {
   "cell_type": "code",
   "execution_count": null,
   "id": "8c27e601-6523-4605-94aa-9d7a0a501d3d",
   "metadata": {},
   "outputs": [],
   "source": [
    "fig, ax1 = plt.subplots(figsize=(6, 6))\n",
    "x_vals = data1200[\"Time (Days)\"] #grabs raw age values from original data to plot raw data\n",
    "\n",
    "\n",
    "#plotting raw data for biomass and nitrate on left y-axis\n",
    "ax1.scatter(x_vals, data1200[\"Biomass (mg/mL)\"], color='blue', label='Biomass (raw)',s=20)\n",
    "ax1.scatter(x_vals, data1200[\"Nitrate (mg/mL)\"], color='red', label='Nitrate (raw)',s=20)\n",
    "\n",
    "#draws a smooth biomass curve using predicted values (y_dense_bio/y_dense_nitrate) over a smooth time range (x_dense) for nitrate and biomass\n",
    "ax1.plot(x1200_dense, y1200_dense_bio, color='blue', label='Biomass (fit)')\n",
    "ax1.plot(x1200_dense, y1200_dense_nit, color='red', label='Nitrate (fit)')\n",
    "\n",
    "#limits and labels for primary y-axis and x-axis (limits based on paper to make look the same)\n",
    "ax1.set_xlabel(\"Time (days)\")\n",
    "ax1.set_ylabel(\"Biomass, Nitrate (mg/L)\")\n",
    "ax1.set_xlim(0, 60)\n",
    "ax1.set_ylim(0, 4000)\n",
    "\n",
    "#adds CPC on right axis\n",
    "ax2 = ax1.twinx() #twin function creates secondary y-axis that shares same x-axis but has different units and limits than primary y-axis\n",
    "#plots raw CPC data\n",
    "ax2.scatter(data1200[\"Time (Days)\"], data1200[\"C-PC (mg/mL)\"], color='green', label='C-PC (raw)', s=20)\n",
    "#plots smoothed fitted line over raw data\n",
    "ax2.plot(x1200_dense, y1200_dense_cpc, color='green', label='C-PC (fit)')\n",
    "\n",
    "#labels secondary y-axis and adds scale\n",
    "ax2.set_ylabel(\"C-PC (mg/L)\")\n",
    "ax2.set_ylim(0, 1500)\n",
    "\n",
    "#combines legends from both axes\n",
    "lines1, labels1 = ax1.get_legend_handles_labels()\n",
    "lines2, labels2 = ax2.get_legend_handles_labels()\n",
    "ax1.legend(lines1 + lines2, labels1 + labels2, loc=\"upper left\")\n",
    "\n",
    "#adds title\n",
    "plt.title(\"Biomass, Nitrate, and C-PC Over Time (Raw + Fit)\")\n",
    "#adds gridlines\n",
    "plt.grid(True)\n",
    "\n",
    "plt.show()"
   ]
  },
  {
   "cell_type": "code",
   "execution_count": null,
   "id": "da6a53d8-8af1-4615-b44e-2c647981ae1f",
   "metadata": {},
   "outputs": [],
   "source": []
  }
 ],
 "metadata": {
  "kernelspec": {
   "display_name": "Python 3.11 (default)",
   "language": "python",
   "name": "python3"
  },
  "language_info": {
   "codemirror_mode": {
    "name": "ipython",
    "version": 3
   },
   "file_extension": ".py",
   "mimetype": "text/x-python",
   "name": "python",
   "nbconvert_exporter": "python",
   "pygments_lexer": "ipython3",
   "version": "3.11.11"
  }
 },
 "nbformat": 4,
 "nbformat_minor": 5
}
